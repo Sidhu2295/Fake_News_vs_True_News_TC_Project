{
 "cells": [
  {
   "cell_type": "code",
   "execution_count": 1,
   "id": "bbd7c9fe",
   "metadata": {},
   "outputs": [],
   "source": [
    "import tensorflow as tf\n",
    "from tensorflow.keras import models, layers\n",
    "import matplotlib.pyplot as plt\n",
    "import pandas as pd\n",
    "import numpy as np\n",
    "import seaborn as sns"
   ]
  },
  {
   "cell_type": "code",
   "execution_count": 2,
   "id": "ecae92a7",
   "metadata": {},
   "outputs": [
    {
     "data": {
      "text/html": [
       "<div>\n",
       "<style scoped>\n",
       "    .dataframe tbody tr th:only-of-type {\n",
       "        vertical-align: middle;\n",
       "    }\n",
       "\n",
       "    .dataframe tbody tr th {\n",
       "        vertical-align: top;\n",
       "    }\n",
       "\n",
       "    .dataframe thead th {\n",
       "        text-align: right;\n",
       "    }\n",
       "</style>\n",
       "<table border=\"1\" class=\"dataframe\">\n",
       "  <thead>\n",
       "    <tr style=\"text-align: right;\">\n",
       "      <th></th>\n",
       "      <th>title</th>\n",
       "      <th>text</th>\n",
       "    </tr>\n",
       "  </thead>\n",
       "  <tbody>\n",
       "    <tr>\n",
       "      <th>0</th>\n",
       "      <td>As U.S. budget fight looms, Republicans flip t...</td>\n",
       "      <td>WASHINGTON (Reuters) - The head of a conservat...</td>\n",
       "    </tr>\n",
       "    <tr>\n",
       "      <th>1</th>\n",
       "      <td>U.S. military to accept transgender recruits o...</td>\n",
       "      <td>WASHINGTON (Reuters) - Transgender people will...</td>\n",
       "    </tr>\n",
       "    <tr>\n",
       "      <th>2</th>\n",
       "      <td>Senior U.S. Republican senator: 'Let Mr. Muell...</td>\n",
       "      <td>WASHINGTON (Reuters) - The special counsel inv...</td>\n",
       "    </tr>\n",
       "    <tr>\n",
       "      <th>3</th>\n",
       "      <td>FBI Russia probe helped by Australian diplomat...</td>\n",
       "      <td>WASHINGTON (Reuters) - Trump campaign adviser ...</td>\n",
       "    </tr>\n",
       "    <tr>\n",
       "      <th>4</th>\n",
       "      <td>Trump wants Postal Service to charge 'much mor...</td>\n",
       "      <td>SEATTLE/WASHINGTON (Reuters) - President Donal...</td>\n",
       "    </tr>\n",
       "  </tbody>\n",
       "</table>\n",
       "</div>"
      ],
      "text/plain": [
       "                                               title  \\\n",
       "0  As U.S. budget fight looms, Republicans flip t...   \n",
       "1  U.S. military to accept transgender recruits o...   \n",
       "2  Senior U.S. Republican senator: 'Let Mr. Muell...   \n",
       "3  FBI Russia probe helped by Australian diplomat...   \n",
       "4  Trump wants Postal Service to charge 'much mor...   \n",
       "\n",
       "                                                text  \n",
       "0  WASHINGTON (Reuters) - The head of a conservat...  \n",
       "1  WASHINGTON (Reuters) - Transgender people will...  \n",
       "2  WASHINGTON (Reuters) - The special counsel inv...  \n",
       "3  WASHINGTON (Reuters) - Trump campaign adviser ...  \n",
       "4  SEATTLE/WASHINGTON (Reuters) - President Donal...  "
      ]
     },
     "execution_count": 2,
     "metadata": {},
     "output_type": "execute_result"
    }
   ],
   "source": [
    "true_df = pd.read_csv(\"True.csv\")\n",
    "true_df = true_df.drop(['subject','date'],axis=1)\n",
    "true_df.head()"
   ]
  },
  {
   "cell_type": "code",
   "execution_count": 3,
   "id": "35ef0343",
   "metadata": {},
   "outputs": [
    {
     "data": {
      "text/html": [
       "<div>\n",
       "<style scoped>\n",
       "    .dataframe tbody tr th:only-of-type {\n",
       "        vertical-align: middle;\n",
       "    }\n",
       "\n",
       "    .dataframe tbody tr th {\n",
       "        vertical-align: top;\n",
       "    }\n",
       "\n",
       "    .dataframe thead th {\n",
       "        text-align: right;\n",
       "    }\n",
       "</style>\n",
       "<table border=\"1\" class=\"dataframe\">\n",
       "  <thead>\n",
       "    <tr style=\"text-align: right;\">\n",
       "      <th></th>\n",
       "      <th>title</th>\n",
       "      <th>text</th>\n",
       "    </tr>\n",
       "  </thead>\n",
       "  <tbody>\n",
       "    <tr>\n",
       "      <th>0</th>\n",
       "      <td>Donald Trump Sends Out Embarrassing New Year’...</td>\n",
       "      <td>Donald Trump just couldn t wish all Americans ...</td>\n",
       "    </tr>\n",
       "    <tr>\n",
       "      <th>1</th>\n",
       "      <td>Drunk Bragging Trump Staffer Started Russian ...</td>\n",
       "      <td>House Intelligence Committee Chairman Devin Nu...</td>\n",
       "    </tr>\n",
       "    <tr>\n",
       "      <th>2</th>\n",
       "      <td>Sheriff David Clarke Becomes An Internet Joke...</td>\n",
       "      <td>On Friday, it was revealed that former Milwauk...</td>\n",
       "    </tr>\n",
       "    <tr>\n",
       "      <th>3</th>\n",
       "      <td>Trump Is So Obsessed He Even Has Obama’s Name...</td>\n",
       "      <td>On Christmas day, Donald Trump announced that ...</td>\n",
       "    </tr>\n",
       "    <tr>\n",
       "      <th>4</th>\n",
       "      <td>Pope Francis Just Called Out Donald Trump Dur...</td>\n",
       "      <td>Pope Francis used his annual Christmas Day mes...</td>\n",
       "    </tr>\n",
       "  </tbody>\n",
       "</table>\n",
       "</div>"
      ],
      "text/plain": [
       "                                               title  \\\n",
       "0   Donald Trump Sends Out Embarrassing New Year’...   \n",
       "1   Drunk Bragging Trump Staffer Started Russian ...   \n",
       "2   Sheriff David Clarke Becomes An Internet Joke...   \n",
       "3   Trump Is So Obsessed He Even Has Obama’s Name...   \n",
       "4   Pope Francis Just Called Out Donald Trump Dur...   \n",
       "\n",
       "                                                text  \n",
       "0  Donald Trump just couldn t wish all Americans ...  \n",
       "1  House Intelligence Committee Chairman Devin Nu...  \n",
       "2  On Friday, it was revealed that former Milwauk...  \n",
       "3  On Christmas day, Donald Trump announced that ...  \n",
       "4  Pope Francis used his annual Christmas Day mes...  "
      ]
     },
     "execution_count": 3,
     "metadata": {},
     "output_type": "execute_result"
    }
   ],
   "source": [
    "fake_df = pd.read_csv('Fake.csv')\n",
    "fake_df = fake_df.drop(['subject','date'],axis=1)\n",
    "fake_df.head()"
   ]
  },
  {
   "cell_type": "code",
   "execution_count": 4,
   "id": "d1f7d5e3",
   "metadata": {},
   "outputs": [
    {
     "data": {
      "text/plain": [
       "(21417, 23481)"
      ]
     },
     "execution_count": 4,
     "metadata": {},
     "output_type": "execute_result"
    }
   ],
   "source": [
    "len(true_df), len(fake_df)"
   ]
  },
  {
   "cell_type": "code",
   "execution_count": 5,
   "id": "f6b396d4",
   "metadata": {},
   "outputs": [
    {
     "data": {
      "text/html": [
       "<div>\n",
       "<style scoped>\n",
       "    .dataframe tbody tr th:only-of-type {\n",
       "        vertical-align: middle;\n",
       "    }\n",
       "\n",
       "    .dataframe tbody tr th {\n",
       "        vertical-align: top;\n",
       "    }\n",
       "\n",
       "    .dataframe thead th {\n",
       "        text-align: right;\n",
       "    }\n",
       "</style>\n",
       "<table border=\"1\" class=\"dataframe\">\n",
       "  <thead>\n",
       "    <tr style=\"text-align: right;\">\n",
       "      <th></th>\n",
       "      <th>title</th>\n",
       "      <th>text</th>\n",
       "      <th>target</th>\n",
       "    </tr>\n",
       "  </thead>\n",
       "  <tbody>\n",
       "    <tr>\n",
       "      <th>0</th>\n",
       "      <td>As U.S. budget fight looms, Republicans flip t...</td>\n",
       "      <td>WASHINGTON (Reuters) - The head of a conservat...</td>\n",
       "      <td>1</td>\n",
       "    </tr>\n",
       "    <tr>\n",
       "      <th>1</th>\n",
       "      <td>U.S. military to accept transgender recruits o...</td>\n",
       "      <td>WASHINGTON (Reuters) - Transgender people will...</td>\n",
       "      <td>1</td>\n",
       "    </tr>\n",
       "    <tr>\n",
       "      <th>2</th>\n",
       "      <td>Senior U.S. Republican senator: 'Let Mr. Muell...</td>\n",
       "      <td>WASHINGTON (Reuters) - The special counsel inv...</td>\n",
       "      <td>1</td>\n",
       "    </tr>\n",
       "    <tr>\n",
       "      <th>3</th>\n",
       "      <td>FBI Russia probe helped by Australian diplomat...</td>\n",
       "      <td>WASHINGTON (Reuters) - Trump campaign adviser ...</td>\n",
       "      <td>1</td>\n",
       "    </tr>\n",
       "    <tr>\n",
       "      <th>4</th>\n",
       "      <td>Trump wants Postal Service to charge 'much mor...</td>\n",
       "      <td>SEATTLE/WASHINGTON (Reuters) - President Donal...</td>\n",
       "      <td>1</td>\n",
       "    </tr>\n",
       "  </tbody>\n",
       "</table>\n",
       "</div>"
      ],
      "text/plain": [
       "                                               title  \\\n",
       "0  As U.S. budget fight looms, Republicans flip t...   \n",
       "1  U.S. military to accept transgender recruits o...   \n",
       "2  Senior U.S. Republican senator: 'Let Mr. Muell...   \n",
       "3  FBI Russia probe helped by Australian diplomat...   \n",
       "4  Trump wants Postal Service to charge 'much mor...   \n",
       "\n",
       "                                                text  target  \n",
       "0  WASHINGTON (Reuters) - The head of a conservat...       1  \n",
       "1  WASHINGTON (Reuters) - Transgender people will...       1  \n",
       "2  WASHINGTON (Reuters) - The special counsel inv...       1  \n",
       "3  WASHINGTON (Reuters) - Trump campaign adviser ...       1  \n",
       "4  SEATTLE/WASHINGTON (Reuters) - President Donal...       1  "
      ]
     },
     "execution_count": 5,
     "metadata": {},
     "output_type": "execute_result"
    }
   ],
   "source": [
    "true_df['target'] = [1 for target in range(len(true_df))]\n",
    "fake_df['target'] = [0 for target in range(len(fake_df))]\n",
    "true_df.head()"
   ]
  },
  {
   "cell_type": "code",
   "execution_count": 6,
   "id": "033ffd92",
   "metadata": {},
   "outputs": [
    {
     "data": {
      "text/html": [
       "<div>\n",
       "<style scoped>\n",
       "    .dataframe tbody tr th:only-of-type {\n",
       "        vertical-align: middle;\n",
       "    }\n",
       "\n",
       "    .dataframe tbody tr th {\n",
       "        vertical-align: top;\n",
       "    }\n",
       "\n",
       "    .dataframe thead th {\n",
       "        text-align: right;\n",
       "    }\n",
       "</style>\n",
       "<table border=\"1\" class=\"dataframe\">\n",
       "  <thead>\n",
       "    <tr style=\"text-align: right;\">\n",
       "      <th></th>\n",
       "      <th>title</th>\n",
       "      <th>text</th>\n",
       "      <th>target</th>\n",
       "    </tr>\n",
       "  </thead>\n",
       "  <tbody>\n",
       "    <tr>\n",
       "      <th>0</th>\n",
       "      <td>Donald Trump Sends Out Embarrassing New Year’...</td>\n",
       "      <td>Donald Trump just couldn t wish all Americans ...</td>\n",
       "      <td>0</td>\n",
       "    </tr>\n",
       "    <tr>\n",
       "      <th>1</th>\n",
       "      <td>Drunk Bragging Trump Staffer Started Russian ...</td>\n",
       "      <td>House Intelligence Committee Chairman Devin Nu...</td>\n",
       "      <td>0</td>\n",
       "    </tr>\n",
       "    <tr>\n",
       "      <th>2</th>\n",
       "      <td>Sheriff David Clarke Becomes An Internet Joke...</td>\n",
       "      <td>On Friday, it was revealed that former Milwauk...</td>\n",
       "      <td>0</td>\n",
       "    </tr>\n",
       "    <tr>\n",
       "      <th>3</th>\n",
       "      <td>Trump Is So Obsessed He Even Has Obama’s Name...</td>\n",
       "      <td>On Christmas day, Donald Trump announced that ...</td>\n",
       "      <td>0</td>\n",
       "    </tr>\n",
       "    <tr>\n",
       "      <th>4</th>\n",
       "      <td>Pope Francis Just Called Out Donald Trump Dur...</td>\n",
       "      <td>Pope Francis used his annual Christmas Day mes...</td>\n",
       "      <td>0</td>\n",
       "    </tr>\n",
       "  </tbody>\n",
       "</table>\n",
       "</div>"
      ],
      "text/plain": [
       "                                               title  \\\n",
       "0   Donald Trump Sends Out Embarrassing New Year’...   \n",
       "1   Drunk Bragging Trump Staffer Started Russian ...   \n",
       "2   Sheriff David Clarke Becomes An Internet Joke...   \n",
       "3   Trump Is So Obsessed He Even Has Obama’s Name...   \n",
       "4   Pope Francis Just Called Out Donald Trump Dur...   \n",
       "\n",
       "                                                text  target  \n",
       "0  Donald Trump just couldn t wish all Americans ...       0  \n",
       "1  House Intelligence Committee Chairman Devin Nu...       0  \n",
       "2  On Friday, it was revealed that former Milwauk...       0  \n",
       "3  On Christmas day, Donald Trump announced that ...       0  \n",
       "4  Pope Francis used his annual Christmas Day mes...       0  "
      ]
     },
     "execution_count": 6,
     "metadata": {},
     "output_type": "execute_result"
    }
   ],
   "source": [
    "fake_df.head()"
   ]
  },
  {
   "cell_type": "code",
   "execution_count": 7,
   "id": "c06ec42b",
   "metadata": {},
   "outputs": [],
   "source": [
    "dataframes = [true_df, fake_df]\n",
    "news_df = pd.concat(dataframes, keys=['x','y','z'])"
   ]
  },
  {
   "cell_type": "code",
   "execution_count": 8,
   "id": "2ca124b5",
   "metadata": {},
   "outputs": [
    {
     "data": {
      "text/html": [
       "<div>\n",
       "<style scoped>\n",
       "    .dataframe tbody tr th:only-of-type {\n",
       "        vertical-align: middle;\n",
       "    }\n",
       "\n",
       "    .dataframe tbody tr th {\n",
       "        vertical-align: top;\n",
       "    }\n",
       "\n",
       "    .dataframe thead th {\n",
       "        text-align: right;\n",
       "    }\n",
       "</style>\n",
       "<table border=\"1\" class=\"dataframe\">\n",
       "  <thead>\n",
       "    <tr style=\"text-align: right;\">\n",
       "      <th></th>\n",
       "      <th></th>\n",
       "      <th>title</th>\n",
       "      <th>text</th>\n",
       "      <th>target</th>\n",
       "    </tr>\n",
       "  </thead>\n",
       "  <tbody>\n",
       "    <tr>\n",
       "      <th rowspan=\"3\" valign=\"top\">y</th>\n",
       "      <th>799</th>\n",
       "      <td>BREAKING: GOP Chairman Grassley Has Had Enoug...</td>\n",
       "      <td>Donald Trump s White House is in chaos, and th...</td>\n",
       "      <td>0</td>\n",
       "    </tr>\n",
       "    <tr>\n",
       "      <th>6500</th>\n",
       "      <td>Failed GOP Candidates Remembered In Hilarious...</td>\n",
       "      <td>Now that Donald Trump is the presumptive GOP n...</td>\n",
       "      <td>0</td>\n",
       "    </tr>\n",
       "    <tr>\n",
       "      <th>3590</th>\n",
       "      <td>Mike Pence’s New DC Neighbors Are HILARIOUSLY...</td>\n",
       "      <td>Mike Pence is a huge homophobe. He supports ex...</td>\n",
       "      <td>0</td>\n",
       "    </tr>\n",
       "    <tr>\n",
       "      <th>x</th>\n",
       "      <th>1377</th>\n",
       "      <td>California AG pledges to defend birth control ...</td>\n",
       "      <td>SAN FRANCISCO (Reuters) - California Attorney ...</td>\n",
       "      <td>1</td>\n",
       "    </tr>\n",
       "    <tr>\n",
       "      <th>y</th>\n",
       "      <th>11059</th>\n",
       "      <td>AZ RANCHERS Living On US-Mexico Border Destroy...</td>\n",
       "      <td>Twisted reasoning is all that comes from Pelos...</td>\n",
       "      <td>0</td>\n",
       "    </tr>\n",
       "  </tbody>\n",
       "</table>\n",
       "</div>"
      ],
      "text/plain": [
       "                                                     title  \\\n",
       "y 799     BREAKING: GOP Chairman Grassley Has Had Enoug...   \n",
       "  6500    Failed GOP Candidates Remembered In Hilarious...   \n",
       "  3590    Mike Pence’s New DC Neighbors Are HILARIOUSLY...   \n",
       "x 1377   California AG pledges to defend birth control ...   \n",
       "y 11059  AZ RANCHERS Living On US-Mexico Border Destroy...   \n",
       "\n",
       "                                                      text  target  \n",
       "y 799    Donald Trump s White House is in chaos, and th...       0  \n",
       "  6500   Now that Donald Trump is the presumptive GOP n...       0  \n",
       "  3590   Mike Pence is a huge homophobe. He supports ex...       0  \n",
       "x 1377   SAN FRANCISCO (Reuters) - California Attorney ...       1  \n",
       "y 11059  Twisted reasoning is all that comes from Pelos...       0  "
      ]
     },
     "execution_count": 8,
     "metadata": {},
     "output_type": "execute_result"
    }
   ],
   "source": [
    "news_df = news_df.sample(frac=1, random_state=42)\n",
    "news_df.head()"
   ]
  },
  {
   "cell_type": "code",
   "execution_count": 9,
   "id": "19499262",
   "metadata": {},
   "outputs": [],
   "source": [
    "from numpy.random import RandomState\n",
    "\n",
    "rng = RandomState()\n",
    "\n",
    "train_df = news_df.sample(frac=0.7, random_state=rng)\n",
    "val_df = news_df.loc[~news_df.index.isin(train_df.index)]"
   ]
  },
  {
   "cell_type": "code",
   "execution_count": 10,
   "id": "7c872de2",
   "metadata": {},
   "outputs": [
    {
     "data": {
      "text/plain": [
       "(31429, 13469)"
      ]
     },
     "execution_count": 10,
     "metadata": {},
     "output_type": "execute_result"
    }
   ],
   "source": [
    "train_sentences = train_df['text'].tolist()\n",
    "val_sentences = val_df['text'].tolist()\n",
    "\n",
    "len(train_sentences), len(val_sentences)"
   ]
  },
  {
   "cell_type": "code",
   "execution_count": 11,
   "id": "31a22f4e",
   "metadata": {},
   "outputs": [
    {
     "data": {
      "text/plain": [
       "['Congress will vote on a new spending bill in just a few days so they d better get crackin  so they can read the 2,009 page bill before they vote on it, right? You can bet that when the vote comes on this bad deal that most of those voting on it have no idea what s in it. It s a typical pork-filled spending bill that throws the American taxpayer under the bus. The Republicans caved on letting Obama send 10,000 Syrian refugees for the taxpayers to support. Republicans are spineless sellouts The new spending deal reached early Wednesday morning spans more than 2,000 pages, spends $1.149 trillion   and lawmakers will have only a few days to digest it all before they re asked to vote on the legislation, which lays out Congress s priorities for the rest of fiscal year 2016.It works out to nearly $572 million per page, with lawmakers splashing money throughout the government, boosting both popular and unpopular programs alike, thanks to a spending hike agreed to in October s budget deal. That means even the IRS, which the GOP had targeted year after year for cuts, will finally see an increase in 2016. Negotiators agreed to a $290 million boost, though the extra money is required to be spent on taxpayer services and fraud detection. It s still $1.7 billion less than President Obama asked for the tax agency.The biggest fights came on policy disputes, where the GOP won a few of its priorities, but caved on far more. The bill allows Mr. Obama to follow through on his plans to resettle 10,000 Syrian refugees in the U.S. this fiscal year, but does give him new powers to require some visitors from Visa Waiver Program countries to face extra scrutiny if they ve been to Iraq or Syria recently. The goal is to try to weed out foreign fighters who may have trained with the Islamic State.Republicans maintained a ban on federal funding of gun control research, turning back an effort by Democratic leaders to force studies in the wake of this year s mass killings.In a slap at former Secretary of State Hillary Clinton, the bill also prohibits the State Department from spending money to maintain private email accounts. Mrs. Clinton exclusively used an email server kept at her home in New York during her time in office, thwarting open-records requests and spawning the scandal that s ensnared her presidential campaign this year.Leaders of both parties will have to round up the votes to pass the measure this week, and both sides are describing it as a compromise that they can t afford to pass up. This package reflects conservative priorities in both funding and policy   including support for critical areas such as our national defense, halting many harmful regulations, and trimming wasteful spending. But it also represents a compromise that members on both sides of the aisle can and should get behind,  said Rep. Hal Rogers, chairman of the House Appropriations Committee.The bill was released at 2 a.m. Wednesday morning, meaning that if GOP leaders stick to their three-day pledge it shouldn t be voted on in the House until Friday at the earliest.That would still require reading a page every two minutes, continuously over the next couple of days, in order to get through the bill before the vote.Read more: WT',\n",
       " 'She s no stranger to nasty women in America who can t seem to get past their hate for her father to see that Ivanka Trump is a passionate advocate for women and a strong role model for working women raising a family. Ivanka is an incredibly hard working woman who is very accomplished. She s everything the so-called  feminist movement  should be celebrating, but since her father has taken a pro-life position, all bets are off the table. And unlike children of every previous President and First Lady, the Trump children have been the targets of one vicious attack after another. From the boycotting of Ivanka s clothing and accessory line to Rosie O Donnell accusing young 11-yr old Barron Trump of being autistic to the skanky comedian Chelsea Handler who after finding out that Eric Trump and his wife were expecting their first child tweeted,  Just what we need. Another person with those jeans [sic]. Ivanka Trump on Tuesday faced boos and hisses during a panel discussion at the W20 Summit in Berlin Tuesday morning after she defended her father s record of promoting women in his business before becoming president.The president s daughter was speaking on a panel that included German Chancellor Angela Merkel when she remarked that President Trump is  a tremendous champion  for women and families. That remark drew boos and hisses from the crowd at the panel.She later defended her father, citing media criticism but also clearly responding to people in the room. ',\n",
       " \"Actor Morgan Freeman, beloved not just for his on-screen persona but also his silky smooth voice, has put his skills to good use with a powerful new ad for Hillary Clinton s campaign.Shot largely in black and white and titled  All the Good,  the ad spans the years from Clinton s origins: This church taught her to do all the good you can, for all the people you can, for as long as you can. to her on the campaign trail. She understands that this country can t reach it s potential, unless we all do. And as ever, Freeman has an uncanny ability to make you sit up and listen regardless of the subject matter.And for Clinton fans (or fans of Morgan Freeman s voice), this ad is slated to be just one in a series that the actor will record for the Clinton campaign. A longer version of the ad will also begin appearing on televisions across America later this month.Despite a few desperate conservatives trying to claim Freeman as their own, he has long established himself as a fierce advocate for Democrats. Early in Obama s first term, Freeman slammed the Tea Party for the way he said they were intentionally trying to sabotage Obama based on his race. The tea partiers who are controlling the Republican party their stated policy, publicly stated, is to do whatever it takes to see to it that Obama only serves one term,  he tells Piers Morgan.  What underlines that? Screw the country, we re going to do whatever we can to get this black man out of here. In 2012, he lent his voice to Barack Obama s reelection campaign, with similarly powerful results.In contrast, Republican candidates have struggled to find celebrities willing to attach their names to campaigns. Almost every other day, a conservative candidate is served with a cease-and-desist order for using the music of America s biggest pop icons. It s left Republicans struggling to scrape the bottom of the barrel of D-listers. While Sanders and Clinton pick up George Clooney and Susan Sarandon, Ted Cruz and Trump are literally squabbling over the family members of Duck Dynasty.And then there is whatever this is supposed to be:Waiter, I'll have what she's having. RT @passantino: This has to be the best line from Palin s endorsement https://t.co/XtXE23SzYn  Saeed Jones (@theferocity) January 20, 2016With  celebrities  like Sarah Palin, who needs Oscar winners like Morgan Freeman. Right, Republicans?Feature image via Flickr\",\n",
       " 'During a meeting of the Welsh members of the Parliament, PM Nigel Evans shamed the anti-Trump members, reminding them that they have decided upon their own version of democracy and  that 61 million Americans supported Donald Trump at the ballot box. He started out by telling them:  For those who find it difficult to understand to understand that the American people voted for Donald Trump, get over it because he s President of the United States. Evans reminded the members of Parliament that the  Brexit  was also a referendum handed down by British voters to members of Parliament who have forgotten them.  We have to ask ourselves, and this actually includes myself, is that we have to ask ourselves, why is it that people felt so left behind that they ve made the democratic decisions that they have?  These were the forgotten people and just like we have the forgotten people in the United Kingdom, there are the forgotten people in the United States of America. He s going to go down in history for being the only politician to deliver on his promises. But the fact is that there were 61 million people who voted for Donald Trump and when we stand up in this country and then condemn him for being racist and I ve seen no evidence of that.  I ve seen no evidence of him being racist or that they attacked him in an unseemly way, we re actually attacking the American people the 61 million people who supported him. Here is the shortened version:Here is the full version: ',\n",
       " 'On Tuesday night, Fox News blowhard and right-wing messiah Bill O Reilly made it very clear that Republicans  primary focus comes down to one thing: the white-dominated power structure, and those dastardly liberals, he says, are out to destroy it.O Reilly says that liberals want to get rid of the Electoral College   which has twice in recent memory allowed someone completely unqualified to assume office despite losing the popular vote   because they want power taken away from the white establishment. The left in America is demanding that the Electoral College system put into place in 1787 be scrapped. But there is a hidden reason for this,  O Reilly said, adding that voting patterns reveal that most minority votes go to the Democratic Party. This is unsurprising to anyone who pays attention to the way Republicans talk about Muslims, Hispanics, women, African-Americans, and pretty much anyone whose skin tone is darker than a piece of classroom chalk. But to O Reilly, it s a conspiracy against white people   a conspiracy to silence white rural voters by counting each and every person s vote equally, no matter where they live: Very few commentators will tell you that the heart of liberalism in America today is based on race. It permeates almost every issue. That white men have set up a system of oppression. That system must be destroyed. O Reilly may scorn the idea, but white men really have set up a system of oppression. Time magazine notes that the Electoral College largely exists to benefit white slave owners in the south:At the Philadelphia convention, the visionary Pennsylvanian James Wilson proposed direct national election of the president. But the savvy Virginian James Madison responded that such a system would prove unacceptable to the South:  The right of suffrage was much more diffusive [i.e., extensive] in the Northern than the Southern States; and the latter could have no influence in the election on the score of Negroes.  In other words, in a direct election system, the North would outnumber the South, whose many slaves (more than half a million in all) of course could not vote. But the Electoral College a prototype of which Madison proposed in this same speech instead let each southern state count its slaves, albeit with a two-fifths discount, in computing its share of the overall count.[ ]Virginia emerged as the big winner the California of the Founding era with 12 out of a total of 91 electoral votes allocated by the Philadelphia Constitution, more than a quarter of the 46 needed to win an election in the first round. After the 1800 census, Wilson s free state of Pennsylvania had 10% more free persons than Virginia, but got 20% fewer electoral votes. Perversely, the more slaves Virginia (or any other slave state) bought or bred, the more electoral votes it would receive. Were a slave state to free any blacks who then moved North, the state could actually lose electoral votes.If the system s pro-slavery tilt was not overwhelmingly obvious when the Constitution was ratified, it quickly became so. For 32 of the Constitution s first 36 years, a white slaveholding Virginian occupied the presidency. White men have largely abandoned the Democrats, and the left believes it s because of racism that they want to punish minorities, keep them down, O Reilly told his mindless audience, apparently forgetting that conservatives regularly list the ways they want to punish minorities and keep them down (voter I.D. laws, for example). Summing up: Left wants power taken away from the white establishment. They want a profound change in the way America is run. Taking voting power away from the white precincts is the quickest way to do that. This isn t the first time O Reilly has made similar complaints. In 2007, he and John McCain joined together to prattle on about how liberals want to break down the  white Christian male power structure  that has been long-established in our country. In 2012, he complained to Megyn Kelly that the  white establishment is now the minority. O Reilly s latest rant was so stupid that the typically nonsensical and terrible  SooperMexican  over at RightScoop put him on blast:Is that really what conservatism is conserving? White establishment power? Here I thought it was about free markets, free people, and getting the government out of our way. Well, I feel stupid. I wish the GOP had mentioned this earlier.Well darn. As you probably know, I m a minority conservative, and I really hate and despise how the left makes all politics about racial identity, as I wrote here. But the age of Trump makes it sound like  conservatism  is being redefined as pro-white identity politics. This can t be a coincidence, right?Watch O Reilly s latest racist rant below:Featured image via screengrab',\n",
       " ' ',\n",
       " 'Donald Trump was briefly surrounded by Secret Service agents at an Ohio rally on Saturday morning. The event was his first since protesters shut him down in Chicago on Friday night, and a riot erupted at his rally in St. Louis earlier that day.Towards the end of Trump s bullsh*t-fest, someone shouted something and all the sudden Secret Service agents jumped on stage and surrounded the Republican front-runner. It is unclear exactly what caused the agents to move in, but the real estate mogul thanked someone in the crowd: Thank you for the warning. I was ready for  em, but it s much better if the cops do it, don t we agree? Before all of that happened, Trump addressed the rally in Chicago that was shut down on Friday, saying: So, look, we had a tremendous rally in Chicago planned. We were gonna have over 25,000 people, the arena was seating about 11,000, we had registered much more than 25,000 So what happened was very interesting, these were great people like yourselves, these were people that want to make America great again. No, no those were people who wanted to make America HATE again, not  great.  People who want to make this country great, do not assault other people. Trump is confused, but he continued: They were pouring into the arena, good arena, everything nice and all of the sudden a planned attack just came out of nowhere fortunately we were able to tell a lot of them know, don t go,  because we would ve had a problem like you wouldn t have believed They would have wiped them out and that would not have been good. And we made a decision I didn t want to see anybody get hurt, you would have had a problem like they haven t seen in a long time. So, he s admitting that his supporters are so violent that they would have hurt people who were there to protest? Just yesterday evening he was telling news anchors that he had no idea why there were conflicts at his events. It s funny how he changes his tone when he is in front of his angry mobs of supporters, isn t it?He can feign innocence all he wants, but the fact of the matter is, most of America knows that he is bad for our country. We know that he wants to divide us. We know that he incites violence. We know that he would make this country a horrible place to live and that s why Democratic candidates beat him in every single poll.The GOP needs to get it together and dump Drumpf or they are going to see they can kiss their chances of winning any election goodbye for a long, long time.Watch the rally: Featured image via screenshot',\n",
       " 'By all means, lets cut back on security at the trial potentially putting an untold number of Americans at risk in order to ensure 7 suspected terrorists get every advantage our court systems can offer them Attorneys for 7 suspects in FBI case are also seeking lighter security at trial, saying it could influence jury.Defense attorneys for seven suspects charged with supporting terrorism are arguing that the Islamic State of Iraq and the Levant (ISIL) is not a terrorist organization because it operates a government and regulates services for citizens living under its control in Syria.In one of several motions filed Friday in U.S. District Court in Minneapolis, the attorneys argued that despite its reputation for brutality, ISIL carries many characteristics of a government that tends to day-to-day business and that therefore criminal charges against the defendants are too broad. While the group has adopted harshly violent and repressive tactics, and engages in military and insurgency attacks against the Syrian and Iraqi armies, it has also embarked on a systematic process of civilian governance over the eight to 10 million people with the territory it controls,  attorneys said.The statutes under which the defendants are charged prohibit providing support under the direction or control of a terrorist group. The attorneys argue that when a terrorist group controls an entire territory, simply being in that country would effectively become, under the current charges, support to the terrorist group. But when services are provided, it s no longer possible to describe that territory as being part of a terrorist state. Mere travel to Syria, or willingness to  join  ISIL, cannot constitutionally be equated with material support. Accordingly, the material support statute is void,  the attorneys argued.In April, six of the seven defendants in the case were arrested by FBI agents following a 10-month investigation. No trial date has been set. A hearing on motions is scheduled Sept. 2 in front of U.S. District Judge Michael Davis.Other motions included a request to dial back a heavy security presence at the trial because the attorneys said it could negatively influence a jury. Current hearings have a large contingent of police and Homeland Security officers, and at least one bomb-sniffing dog. Via: Star TribuneDon t be surprised if President Bill Clinton appointed Federal Judge Michael Davis goes along with the defense attorney s request to cut back on security in the courtroom:Judge Davis   who s handled all of the recent terrorism cases in Minnesota, where a large Somali community has been a target for recruits for the Islamic State group and al-Shabab   takes a nuanced approach. He s considering pretrial release for some, asking attorneys and the community to create plans that will keep the public safe and steer the young men in a positive direction. As dozens of similar cases proceed nationwide, Davis  actions could become a model for other courts, or could prove disastrous if he takes a risk on the wrong person. I think he s been able to see that terrorism cases aren t black and white and there s a lot of grey in there,  said Anders Folk, a former federal prosecutor in Minnesota who said Davis is among the most experienced judges in the country on the topic.Davis doesn t talk about active cases but said during a recent hearing:  This is way too important for us just to treat it as a regular criminal case. The first African-American federal judge in Minnesota has a broad, friendly smile that he uses to put jurors, and sometimes defendants, at ease, but he also employs a stare that flusters even the most experienced attorneys. He s soft-spoken, but can command attention with a big, booming voice. The 68-year-old has no tolerance for disruptions in the courtroom, but is well known for ensuring each person receives equal justice.Cases like the ones currently in front of Davis   eight young men charged with conspiring to travel to Syria to join the Islamic State group   are challenging for any judge, Folk said. They re complex and require managing a community that s emotionally involved and sometimes feels unfairly targeted. Via: Naples Herald',\n",
       " 'WASHINGTON/LONDON (Reuters) - President Donald Trump on Wednesday shared anti-Muslim videos posted on Twitter by a far-right British party leader, drawing condemnation from Britain, U.S. Muslim groups and some members of Congress. The White House defended the retweets by the Republican president, who during the 2016 U.S. election campaign called for “a total and complete shutdown of Muslims entering the United States,” saying that he was raising security issues. As president, Trump has issued executive orders banning entry to some citizens of several Muslim-majority countries, although courts have partially blocked the measures from taking effect. “Look, I’m not talking about the nature of the video,” White House spokeswoman Sarah Sanders told reporters. “The threat is real and that’s what the president is talking about is the need for national security, the need for military spending, and those are very real things. There’s nothing fake about that.” Jayda Fransen, deputy leader of anti-immigration Britain First, posted the videos which she said showed a group of people who were Muslims beating a teenage boy to death, battering a boy on crutches and destroying a Christian statue. Fransen was convicted earlier this month of abusing a Muslim woman and was ordered to pay a fine and legal costs. Some British lawmakers demanded an apology from Trump for sharing the videos with his nearly 44 million Twitter followers and U.S. Muslim groups said he had been incendiary and reckless. “It is wrong for the president to have done this,” the spokesman for British Prime Minister Theresa May said. “Britain First seeks to divide communities through their use of hateful narratives which peddle lies and stoke tensions. They cause anxiety to law-abiding people,” the spokesman said. Trump fired back at May over her criticism. “Theresa @theresamay, don’t focus on me, focus on the destructive Radical Islamic Terrorism that is taking place within the United Kingdom. We are doing just fine,” Trump tweeted, using an incorrect Twitter handle for May. He later issued a tweet with her correct handle, “@Theresa_May”.     Reuters was unable to immediately verify the videos and Fransen herself said they had come from various online sources which had been posted on her social media pages. “I’m delighted,” Fransen, who has 53,000 Twitter followers, told Reuters. She said Trump’s retweets showed the president shared her aim of raising awareness of “issues such as Islam”. The White House repeatedly refused to be drawn into the content of the videos or whether Trump was aware of the source of the tweets. “It’s about ensuring that individuals who come into the United States don’t pose a public safety or terrorism threat,” White House spokesman Raj Shah told reporters aboard Air Force One. Fransen thanked Trump and said, “The important message here is Donald Trump has been made aware of the persecution and prosecution of a political leader in Britain for giving what has been said by police to be an anti-Islamic speech.” ANTI-IMMIGRATION One of the videos that Trump retweeted first circulated on social and Egyptian state media in 2013, showing what appeared to be supporters of now-ousted Islamist President Mohammed Mursi throwing two youths from a concrete tower onto a roof. In reference to another video that was titled “Muslim migrant beats up Dutch boy on crutches!”, the Netherlands embassy in the United States tweeted back at Trump saying: “@realDonaldTrump Facts do matter. The perpetrator of the violent act in this video was born and raised in the Netherlands. He received and completed his sentence under Dutch law.” Trump’s promotion of the videos contrasts with the way he often criticizes mainstream U.S. media, lambasting some outlets for “fake news” when they air segments he regards as being against him. “What we saw today is one of many videos that is circulating on anti-Muslim hate websites,” said Ilhan Cagri with the U.S.-based Muslim Public Affairs Council. “It is years-old and simply aims to breed fear for Muslims and Islam and breed violence. It  has nothing to do with the practice of Islam itself,” Cagri said. The Anti-Defamation League said the retweets would only encourage “extremists and anti-Muslim bigots in the United States and abroad who exploit the propaganda value.” “Such content is the engine that fuels extremist movements and will embolden bigots in the U.S. who already believe the president is a fellow traveler,” the ADL said in a statement. Democrats in Congress and at least one Republican lawmaker were also critical of Trump.  “The violence depicted in these videos is horrific, but it is abhorrent that President Trump would choose to deliberately fan the flames of hatred and religious bigotry,” Democratic U.S. Senator Jack Reed said in a statement. Republican Senator John McCain, a frequent critic of Trump, said he was “surprised” that Trump had chosen to retweet those videos. “What do I think about it? Obviously, surprised. Surprised,” he told Reuters as he left a meeting with Jordanian King Abdullah at the U.S. Senate. Britain First is a peripheral political party which wants to end all immigration and bring in a comprehensive ban on Islam, with anyone found to be promoting the religion’s ideology to be deported or imprisoned. The group, which rarely garners any media attention but attracts a few hundred protesters to its regular street demonstrations, states on its website it is a “loyalist movement.” Critics say it is simply racist. Last week, Fransen was charged by the police in Northern Ireland with using threatening, abusive or insulting words in a speech at a rally in Belfast in August. Along with the group’s leader, she was also charged in September with causing religiously aggravated harassment over the distribution of leaflets and posting online videos during a court trial involving a number of Muslim men accused and later convicted of rape. Politicians in Britain condemned Trump, with Jeremy Corbyn, leader of the opposition Labour Party, describing his tweets as “abhorrent, dangerous and a threat to our society.” In contrast, David Duke, a former Ku Klux Klan leader who has run for political office in Louisiana, praised Trump. “He’s condemned for showing us what the fake news media won’t,” Duke wrote on Twitter. “Thank God for Trump! That’s why we love him!” ',\n",
       " 'NEW YORK (Reuters) - The federal appointees tapped to help map Puerto Rico’s economic future are technocrats more than political actors, and that could make the U.S. territory’s fiscal turnaround look more like a corporate restructuring than a politically charged municipal bankruptcy in the vein of Detroit.  The law known as PROMESA, which created the board when it passed the U.S. Congress in June with bipartisan support, envisioned a pragmatic solution for an island combating $70 billion in debt, 45 percent poverty and a brain drain as residents bolt in droves for the mainland United States. Its members, four Republicans and three Democrats appointed last week, were chosen by Republican and Democratic lawmakers and President Barack Obama. The board has broad powers to help stabilize the island’s economy, from investigating Puerto Rico’s government to working with that government on projects to spur economic growth. It must also approve the island’s annual budgets, and will eventually facilitate debt-restructuring talks with creditors. In the latter endeavor, it will have to navigate a minefield of competing interests.  The island has 18 separate debt issuers, backed by different revenues streams, as well as $18 billion in so-called general obligation debt backed by the “full faith and credit” of the territory’s government. While that promise is legally weak in a bankruptcy setting, it is a sacrosanct pledge in municipal debt markets. Holders of all that debt will jockey for payouts against government vendors and beneficiaries of the island’s public pensions, which have less than $2 billion in assets to cover some $45 billion in liabilities.   Detroit’s bankruptcy, which ended in December 2014, treated city pensions much better than its outstanding bonds, which were largely insured. Some Puerto Rico creditors, still suffering Detroit flashbacks, feared Puerto Rico could look similar - especially since Governor Alejandro Garcia Padilla has pushed big haircuts and railed against the idea of reducing government services. But the makeup of the Puerto Rico board has offered some reassurance, said Nader Tavakoli, chief executive officer of Ambac, which insures $2.2 billion of Puerto Rican bonds and also insured some of Detroit’s bonds. “These board members are technocrats, and it gives us confidence that this is not going to be overly politicized,” he said. Deal makers also feature prominently, with an ex-bankruptcy judge, a banker and a hedge fund operator in the mix.  Republicans, generally seen as creditor-friendly, nominated a bankruptcy academic who favors restructuring the island’s debt, David Skeel. And Democrats nominated a banker, Jose Ramon Gonzalez, and a Democratic finance expert in Ana Matosantos who directed California’s budget under former Republican Governor Arnold Schwarzenegger. Experts see the group as likely to push a solution that sees all sides share a burden, a typical approach for companies restructuring under Chapter 11. “There are no ideologues in the group,” said Keefe Bruyette & Woods analyst Chas Tyson.     That does not mean there are not drawbacks. For one, the board will have to navigate a testy local political climate with residents who largely revile a panel they see as an extension of colonial rule. Island voters broadly unhappy with the Garcia Padilla administration in November will elect a new governor as well as members of the legislature and scores of mayors. “There are still politics here,” said veteran bankruptcy attorney Richard Levin, who is following the situation. “The governor and legislature retain some authority.”  For Height Securities analyst Daniel Hanson, the board is short on expertise in economic development. Any real solution for Puerto Rico requires fundamental economic changes, including at its underperforming education department, and it’s unclear whether the board can facilitate such change. But from a financial perspective, at least, the board seems less inclined to promote a political agenda than figure out a collaborative fix and then get out, said Matt Fabian, partner at Municipal Market Analytics.  “The board is not being installed to fight with Puerto Ricans or to impose some kind of federal view,” Fabian said. “They just want these troubles to be fixed.” ']"
      ]
     },
     "execution_count": 11,
     "metadata": {},
     "output_type": "execute_result"
    }
   ],
   "source": [
    "train_sentences[:10]"
   ]
  },
  {
   "cell_type": "code",
   "execution_count": 27,
   "id": "92735353",
   "metadata": {},
   "outputs": [],
   "source": [
    "from sklearn.preprocessing import OneHotEncoder\n",
    "one_hot_encoder = OneHotEncoder(sparse=False)\n",
    "train_labels_one_hot = one_hot_encoder.fit_transform(train_df['target'].to_numpy().reshape(-1,1))\n",
    "val_labels_one_hot = one_hot_encoder.fit_transform(val_df['target'].to_numpy().reshape(-1,1))\n"
   ]
  },
  {
   "cell_type": "code",
   "execution_count": 12,
   "id": "cfdb5707",
   "metadata": {},
   "outputs": [
    {
     "data": {
      "text/plain": [
       "array([0, 0, 0, ..., 1, 1, 1], dtype=int64)"
      ]
     },
     "execution_count": 12,
     "metadata": {},
     "output_type": "execute_result"
    }
   ],
   "source": [
    "from sklearn.preprocessing import LabelEncoder\n",
    "label_encoder = LabelEncoder()\n",
    "train_labels_encoded = label_encoder.fit_transform(train_df['target'].to_numpy())\n",
    "val_labels_encoded = label_encoder.fit_transform(val_df['target'].to_numpy())\n",
    "\n",
    "train_labels_encoded"
   ]
  },
  {
   "cell_type": "code",
   "execution_count": 13,
   "id": "f6d73d0a",
   "metadata": {},
   "outputs": [
    {
     "data": {
      "text/html": [
       "<style>#sk-container-id-1 {color: black;background-color: white;}#sk-container-id-1 pre{padding: 0;}#sk-container-id-1 div.sk-toggleable {background-color: white;}#sk-container-id-1 label.sk-toggleable__label {cursor: pointer;display: block;width: 100%;margin-bottom: 0;padding: 0.3em;box-sizing: border-box;text-align: center;}#sk-container-id-1 label.sk-toggleable__label-arrow:before {content: \"▸\";float: left;margin-right: 0.25em;color: #696969;}#sk-container-id-1 label.sk-toggleable__label-arrow:hover:before {color: black;}#sk-container-id-1 div.sk-estimator:hover label.sk-toggleable__label-arrow:before {color: black;}#sk-container-id-1 div.sk-toggleable__content {max-height: 0;max-width: 0;overflow: hidden;text-align: left;background-color: #f0f8ff;}#sk-container-id-1 div.sk-toggleable__content pre {margin: 0.2em;color: black;border-radius: 0.25em;background-color: #f0f8ff;}#sk-container-id-1 input.sk-toggleable__control:checked~div.sk-toggleable__content {max-height: 200px;max-width: 100%;overflow: auto;}#sk-container-id-1 input.sk-toggleable__control:checked~label.sk-toggleable__label-arrow:before {content: \"▾\";}#sk-container-id-1 div.sk-estimator input.sk-toggleable__control:checked~label.sk-toggleable__label {background-color: #d4ebff;}#sk-container-id-1 div.sk-label input.sk-toggleable__control:checked~label.sk-toggleable__label {background-color: #d4ebff;}#sk-container-id-1 input.sk-hidden--visually {border: 0;clip: rect(1px 1px 1px 1px);clip: rect(1px, 1px, 1px, 1px);height: 1px;margin: -1px;overflow: hidden;padding: 0;position: absolute;width: 1px;}#sk-container-id-1 div.sk-estimator {font-family: monospace;background-color: #f0f8ff;border: 1px dotted black;border-radius: 0.25em;box-sizing: border-box;margin-bottom: 0.5em;}#sk-container-id-1 div.sk-estimator:hover {background-color: #d4ebff;}#sk-container-id-1 div.sk-parallel-item::after {content: \"\";width: 100%;border-bottom: 1px solid gray;flex-grow: 1;}#sk-container-id-1 div.sk-label:hover label.sk-toggleable__label {background-color: #d4ebff;}#sk-container-id-1 div.sk-serial::before {content: \"\";position: absolute;border-left: 1px solid gray;box-sizing: border-box;top: 0;bottom: 0;left: 50%;z-index: 0;}#sk-container-id-1 div.sk-serial {display: flex;flex-direction: column;align-items: center;background-color: white;padding-right: 0.2em;padding-left: 0.2em;position: relative;}#sk-container-id-1 div.sk-item {position: relative;z-index: 1;}#sk-container-id-1 div.sk-parallel {display: flex;align-items: stretch;justify-content: center;background-color: white;position: relative;}#sk-container-id-1 div.sk-item::before, #sk-container-id-1 div.sk-parallel-item::before {content: \"\";position: absolute;border-left: 1px solid gray;box-sizing: border-box;top: 0;bottom: 0;left: 50%;z-index: -1;}#sk-container-id-1 div.sk-parallel-item {display: flex;flex-direction: column;z-index: 1;position: relative;background-color: white;}#sk-container-id-1 div.sk-parallel-item:first-child::after {align-self: flex-end;width: 50%;}#sk-container-id-1 div.sk-parallel-item:last-child::after {align-self: flex-start;width: 50%;}#sk-container-id-1 div.sk-parallel-item:only-child::after {width: 0;}#sk-container-id-1 div.sk-dashed-wrapped {border: 1px dashed gray;margin: 0 0.4em 0.5em 0.4em;box-sizing: border-box;padding-bottom: 0.4em;background-color: white;}#sk-container-id-1 div.sk-label label {font-family: monospace;font-weight: bold;display: inline-block;line-height: 1.2em;}#sk-container-id-1 div.sk-label-container {text-align: center;}#sk-container-id-1 div.sk-container {/* jupyter's `normalize.less` sets `[hidden] { display: none; }` but bootstrap.min.css set `[hidden] { display: none !important; }` so we also need the `!important` here to be able to override the default hidden behavior on the sphinx rendered scikit-learn.org. See: https://github.com/scikit-learn/scikit-learn/issues/21755 */display: inline-block !important;position: relative;}#sk-container-id-1 div.sk-text-repr-fallback {display: none;}</style><div id=\"sk-container-id-1\" class=\"sk-top-container\"><div class=\"sk-text-repr-fallback\"><pre>Pipeline(steps=[(&#x27;tf-idf&#x27;, TfidfVectorizer()), (&#x27;clf&#x27;, MultinomialNB())])</pre><b>In a Jupyter environment, please rerun this cell to show the HTML representation or trust the notebook. <br />On GitHub, the HTML representation is unable to render, please try loading this page with nbviewer.org.</b></div><div class=\"sk-container\" hidden><div class=\"sk-item sk-dashed-wrapped\"><div class=\"sk-label-container\"><div class=\"sk-label sk-toggleable\"><input class=\"sk-toggleable__control sk-hidden--visually\" id=\"sk-estimator-id-1\" type=\"checkbox\" ><label for=\"sk-estimator-id-1\" class=\"sk-toggleable__label sk-toggleable__label-arrow\">Pipeline</label><div class=\"sk-toggleable__content\"><pre>Pipeline(steps=[(&#x27;tf-idf&#x27;, TfidfVectorizer()), (&#x27;clf&#x27;, MultinomialNB())])</pre></div></div></div><div class=\"sk-serial\"><div class=\"sk-item\"><div class=\"sk-estimator sk-toggleable\"><input class=\"sk-toggleable__control sk-hidden--visually\" id=\"sk-estimator-id-2\" type=\"checkbox\" ><label for=\"sk-estimator-id-2\" class=\"sk-toggleable__label sk-toggleable__label-arrow\">TfidfVectorizer</label><div class=\"sk-toggleable__content\"><pre>TfidfVectorizer()</pre></div></div></div><div class=\"sk-item\"><div class=\"sk-estimator sk-toggleable\"><input class=\"sk-toggleable__control sk-hidden--visually\" id=\"sk-estimator-id-3\" type=\"checkbox\" ><label for=\"sk-estimator-id-3\" class=\"sk-toggleable__label sk-toggleable__label-arrow\">MultinomialNB</label><div class=\"sk-toggleable__content\"><pre>MultinomialNB()</pre></div></div></div></div></div></div></div>"
      ],
      "text/plain": [
       "Pipeline(steps=[('tf-idf', TfidfVectorizer()), ('clf', MultinomialNB())])"
      ]
     },
     "execution_count": 13,
     "metadata": {},
     "output_type": "execute_result"
    }
   ],
   "source": [
    "from sklearn.naive_bayes import MultinomialNB\n",
    "from sklearn.feature_extraction.text import TfidfVectorizer\n",
    "from sklearn.pipeline import Pipeline\n",
    "\n",
    "model_0 = Pipeline([\n",
    "    ('tf-idf', TfidfVectorizer()),\n",
    "    ('clf', MultinomialNB())\n",
    "])\n",
    "\n",
    "model_0.fit(\n",
    "    train_sentences,\n",
    "    train_labels_encoded\n",
    ")"
   ]
  },
  {
   "cell_type": "code",
   "execution_count": 14,
   "id": "555ee1b8",
   "metadata": {},
   "outputs": [
    {
     "data": {
      "text/plain": [
       "0.9354072314202985"
      ]
     },
     "execution_count": 14,
     "metadata": {},
     "output_type": "execute_result"
    }
   ],
   "source": [
    "model_0.score(val_sentences, val_labels_encoded)"
   ]
  },
  {
   "cell_type": "code",
   "execution_count": 15,
   "id": "952b84c4",
   "metadata": {},
   "outputs": [
    {
     "data": {
      "text/plain": [
       "array([0, 0, 0, ..., 1, 0, 1], dtype=int64)"
      ]
     },
     "execution_count": 15,
     "metadata": {},
     "output_type": "execute_result"
    }
   ],
   "source": [
    "baseline_preds = model_0.predict(val_sentences)\n",
    "baseline_preds"
   ]
  },
  {
   "cell_type": "code",
   "execution_count": 16,
   "id": "53c90d87",
   "metadata": {},
   "outputs": [],
   "source": [
    "from sklearn.metrics import accuracy_score, precision_recall_fscore_support\n",
    "\n",
    "def calculate_results(y_true, y_pred):\n",
    "    model_accuracy = accuracy_score(y_true, y_pred)*100\n",
    "    model_precision, model_recall, model_f1, _ = precision_recall_fscore_support(y_true, y_pred, average='weighted')\n",
    "    model_results = {\"accuracy\": model_accuracy,\n",
    "                     \"precision\": model_precision,\n",
    "                     \"recall\": model_recall,\n",
    "                     \"f1-score\": model_f1}\n",
    "    return model_results"
   ]
  },
  {
   "cell_type": "code",
   "execution_count": 17,
   "id": "bb780170",
   "metadata": {},
   "outputs": [
    {
     "data": {
      "text/plain": [
       "{'accuracy': 93.54072314202985,\n",
       " 'precision': 0.9354501480982574,\n",
       " 'recall': 0.9354072314202985,\n",
       " 'f1-score': 0.9353789712573514}"
      ]
     },
     "execution_count": 17,
     "metadata": {},
     "output_type": "execute_result"
    }
   ],
   "source": [
    "baseline_results = calculate_results(val_labels_encoded, baseline_preds)\n",
    "baseline_results"
   ]
  },
  {
   "cell_type": "code",
   "execution_count": 18,
   "id": "3282b0a1",
   "metadata": {},
   "outputs": [
    {
     "data": {
      "text/plain": [
       "404.0"
      ]
     },
     "execution_count": 18,
     "metadata": {},
     "output_type": "execute_result"
    }
   ],
   "source": [
    "sent_lens = [len(sentence.split()) for sentence in train_sentences]\n",
    "avg_sent_lens = np.round(np.mean(sent_lens))\n",
    "avg_sent_lens"
   ]
  },
  {
   "cell_type": "code",
   "execution_count": 19,
   "id": "501d4993",
   "metadata": {},
   "outputs": [
    {
     "data": {
      "text/plain": [
       "(array([2.4466e+04, 6.1310e+03, 5.8200e+02, 1.1800e+02, 4.6000e+01,\n",
       "        2.7000e+01, 2.0000e+01, 1.9000e+01, 5.0000e+00, 2.0000e+00,\n",
       "        5.0000e+00, 1.0000e+00, 3.0000e+00, 1.0000e+00, 3.0000e+00]),\n",
       " array([   0.        ,  542.33333333, 1084.66666667, 1627.        ,\n",
       "        2169.33333333, 2711.66666667, 3254.        , 3796.33333333,\n",
       "        4338.66666667, 4881.        , 5423.33333333, 5965.66666667,\n",
       "        6508.        , 7050.33333333, 7592.66666667, 8135.        ]),\n",
       " <BarContainer object of 15 artists>)"
      ]
     },
     "execution_count": 19,
     "metadata": {},
     "output_type": "execute_result"
    },
    {
     "data": {
      "image/png": "[encoded data removed]",
      "text/plain": [
       "<Figure size 640x480 with 1 Axes>"
      ]
     },
     "metadata": {},
     "output_type": "display_data"
    }
   ],
   "source": [
    "plt.hist(sent_lens, bins=15)"
   ]
  },
  {
   "cell_type": "code",
   "execution_count": 20,
   "id": "6187561c",
   "metadata": {},
   "outputs": [
    {
     "data": {
      "text/plain": [
       "900"
      ]
     },
     "execution_count": 20,
     "metadata": {},
     "output_type": "execute_result"
    }
   ],
   "source": [
    "output_seq_len = int(np.percentile(sent_lens, 95))\n",
    "output_seq_len"
   ]
  },
  {
   "cell_type": "code",
   "execution_count": 21,
   "id": "56149792",
   "metadata": {},
   "outputs": [],
   "source": [
    "max_tokens = 68000\n",
    "\n",
    "text_vectorizer = tf.keras.layers.TextVectorization(\n",
    "    max_tokens = max_tokens,\n",
    "    output_sequence_length = output_seq_len,\n",
    "    pad_to_max_tokens=True\n",
    ")\n",
    "\n",
    "text_vectorizer.adapt(train_sentences)"
   ]
  },
  {
   "cell_type": "code",
   "execution_count": 22,
   "id": "82a68600",
   "metadata": {},
   "outputs": [
    {
     "name": "stdout",
     "output_type": "stream",
     "text": [
      "Text:\n",
      " BERLIN (Reuters) - Angela Merkel s conservatives maintained a strong lead over their rival Social Democrats (SPD), who lost ground slightly, in a poll published on Thursday, three days before an election the German chancellor is set to win. The Forschungsgruppe Wahlen poll for broadcaster ZDF showed Merkel s CDU/CSU bloc was unchanged on 36 percent while the SPD dropped by 1.5 points to 21.5 percent. The anti-immigrant Alternative for Germany (AfD), which is expected to become the first far-right party in parliament for more than half a century, looked set to come third with 11 percent - one point more than last week. The pro-business Free Democrats were on 10 percent, followed by the radical Left on 8.5 percent and the Greens on 8 percent. That would present as potential alliance options a  grand coalition  between Merkel s conservatives and the SPD, or a three-way  Jamaica  alliance of the conservatives, FDP and Greens - so named because the colours of the parties match those of the Caribbean island s flag. In a theoretical direct vote for chancellor, Merkel would win 56 percent while her SPD challenger Martin Schulz would score 32 percent, according to the poll of 1,725 people conducted on Sept. 20 and 21. \n",
      "\n",
      "Length of text: 1229\n",
      "\n",
      "Vectorized text: [[ 1760    66  2279   892    10   707  4247     5   705   549    69    41\n",
      "   1335   317   214  2424    30   664  1116  4595     7     5   688   997\n",
      "      9   203   232   290   116    31   100     2   985  1945    12   383\n",
      "      3   387     2 61587 46548   688    11  4279 16439   613   892    10\n",
      "  13573  1744    18  9789     9  3527   138   114     2  2424  1645    21\n",
      "    632   956     3 16755   138     2  5757  1808    11   667  2858    50\n",
      "     12   440     3   359     2   105  2850   103     7   677    11    49\n",
      "     79   922     5   751  1925   383     3   244  1008    16   801   138\n",
      "     54   373    49    79    96   149     2  6200   382   214    47     9\n",
      "    453   138  1407    21     2  1247   260     9  6369   138     6     2\n",
      "   2604     9   585   138     8    36  1566    19   792  1440  2131     5\n",
      "   1807   539   152   892    10   707     6     2  2424    48     5  6159\n",
      "   7962  1440     4     2   707  3152     6  2604    76  1117    91     2\n",
      "  34181     4     2   715  3748   128     4     2  4699  1148    10  1017\n",
      "      7     5 13630  1251   157    11  1945   892    36   387  4622   138\n",
      "    114    53  2424  5736  1923  4834    36  5978  3787   138   159     3\n",
      "      2   688     4 41096    46  1630     9  1255   486     6  1346     0\n",
      "      0     0     0     0     0     0     0     0     0     0     0     0\n",
      "      0     0     0     0     0     0     0     0     0     0     0     0\n",
      "      0     0     0     0     0     0     0     0     0     0     0     0\n",
      "      0     0     0     0     0     0     0     0     0     0     0     0\n",
      "      0     0     0     0     0     0     0     0     0     0     0     0\n",
      "      0     0     0     0     0     0     0     0     0     0     0     0\n",
      "      0     0     0     0     0     0     0     0     0     0     0     0\n",
      "      0     0     0     0     0     0     0     0     0     0     0     0\n",
      "      0     0     0     0     0     0     0     0     0     0     0     0\n",
      "      0     0     0     0     0     0     0     0     0     0     0     0\n",
      "      0     0     0     0     0     0     0     0     0     0     0     0\n",
      "      0     0     0     0     0     0     0     0     0     0     0     0\n",
      "      0     0     0     0     0     0     0     0     0     0     0     0\n",
      "      0     0     0     0     0     0     0     0     0     0     0     0\n",
      "      0     0     0     0     0     0     0     0     0     0     0     0\n",
      "      0     0     0     0     0     0     0     0     0     0     0     0\n",
      "      0     0     0     0     0     0     0     0     0     0     0     0\n",
      "      0     0     0     0     0     0     0     0     0     0     0     0\n",
      "      0     0     0     0     0     0     0     0     0     0     0     0\n",
      "      0     0     0     0     0     0     0     0     0     0     0     0\n",
      "      0     0     0     0     0     0     0     0     0     0     0     0\n",
      "      0     0     0     0     0     0     0     0     0     0     0     0\n",
      "      0     0     0     0     0     0     0     0     0     0     0     0\n",
      "      0     0     0     0     0     0     0     0     0     0     0     0\n",
      "      0     0     0     0     0     0     0     0     0     0     0     0\n",
      "      0     0     0     0     0     0     0     0     0     0     0     0\n",
      "      0     0     0     0     0     0     0     0     0     0     0     0\n",
      "      0     0     0     0     0     0     0     0     0     0     0     0\n",
      "      0     0     0     0     0     0     0     0     0     0     0     0\n",
      "      0     0     0     0     0     0     0     0     0     0     0     0\n",
      "      0     0     0     0     0     0     0     0     0     0     0     0\n",
      "      0     0     0     0     0     0     0     0     0     0     0     0\n",
      "      0     0     0     0     0     0     0     0     0     0     0     0\n",
      "      0     0     0     0     0     0     0     0     0     0     0     0\n",
      "      0     0     0     0     0     0     0     0     0     0     0     0\n",
      "      0     0     0     0     0     0     0     0     0     0     0     0\n",
      "      0     0     0     0     0     0     0     0     0     0     0     0\n",
      "      0     0     0     0     0     0     0     0     0     0     0     0\n",
      "      0     0     0     0     0     0     0     0     0     0     0     0\n",
      "      0     0     0     0     0     0     0     0     0     0     0     0\n",
      "      0     0     0     0     0     0     0     0     0     0     0     0\n",
      "      0     0     0     0     0     0     0     0     0     0     0     0\n",
      "      0     0     0     0     0     0     0     0     0     0     0     0\n",
      "      0     0     0     0     0     0     0     0     0     0     0     0\n",
      "      0     0     0     0     0     0     0     0     0     0     0     0\n",
      "      0     0     0     0     0     0     0     0     0     0     0     0\n",
      "      0     0     0     0     0     0     0     0     0     0     0     0\n",
      "      0     0     0     0     0     0     0     0     0     0     0     0\n",
      "      0     0     0     0     0     0     0     0     0     0     0     0\n",
      "      0     0     0     0     0     0     0     0     0     0     0     0\n",
      "      0     0     0     0     0     0     0     0     0     0     0     0\n",
      "      0     0     0     0     0     0     0     0     0     0     0     0\n",
      "      0     0     0     0     0     0     0     0     0     0     0     0\n",
      "      0     0     0     0     0     0     0     0     0     0     0     0\n",
      "      0     0     0     0     0     0     0     0     0     0     0     0\n",
      "      0     0     0     0     0     0     0     0     0     0     0     0\n",
      "      0     0     0     0     0     0     0     0     0     0     0     0\n",
      "      0     0     0     0     0     0     0     0     0     0     0     0]]\n"
     ]
    }
   ],
   "source": [
    "import random\n",
    "target_sentence = random.choice(train_sentences)\n",
    "print(f\"Text:\\n {target_sentence}\")\n",
    "print(f\"\\nLength of text: {len(target_sentence)}\")\n",
    "print(f\"\\nVectorized text: {text_vectorizer([target_sentence])}\")"
   ]
  },
  {
   "cell_type": "code",
   "execution_count": 24,
   "id": "13028ed3",
   "metadata": {},
   "outputs": [
    {
     "data": {
      "text/plain": [
       "{'name': 'text_vectorization',\n",
       " 'trainable': True,\n",
       " 'batch_input_shape': (None,),\n",
       " 'dtype': 'string',\n",
       " 'max_tokens': 68000,\n",
       " 'standardize': 'lower_and_strip_punctuation',\n",
       " 'split': 'whitespace',\n",
       " 'ngrams': None,\n",
       " 'output_mode': 'int',\n",
       " 'output_sequence_length': 900,\n",
       " 'pad_to_max_tokens': True}"
      ]
     },
     "execution_count": 24,
     "metadata": {},
     "output_type": "execute_result"
    }
   ],
   "source": [
    "text_vectorizer.get_config()"
   ]
  },
  {
   "cell_type": "code",
   "execution_count": 25,
   "id": "b9450341",
   "metadata": {},
   "outputs": [],
   "source": [
    "token_embed = tf.keras.layers.Embedding(\n",
    "    input_dim = 68000,\n",
    "    output_dim = 128,\n",
    "    mask_zero = True,\n",
    "    name='token_embedding'\n",
    ")"
   ]
  },
  {
   "cell_type": "code",
   "execution_count": 26,
   "id": "b1e061b1",
   "metadata": {},
   "outputs": [
    {
     "name": "stdout",
     "output_type": "stream",
     "text": [
      "Sentence before vectorization:\n",
      " NIZHNY NOVGOROD/MOSCOW (Reuters) - President Vladimir Putin confirmed Russia s worst kept political secret on Wednesday, saying he would run for re-election in March 2018 - a contest he seems sure to win comfortably and extend his grip on power into a third decade. Putin, 65, has been in power, either as president or prime minister, since 2000, longer than veteran Soviet leader Leonid Brezhnev and outstripped only by dictator Josef Stalin. If he wins what would be a fourth presidential term, he will be eligible to serve another six years until 2024, when he turns 72. Backed by state TV, Putin regularly enjoys approval ratings of around 80 percent, and his decision to run for re-election   which he announced at a car-making factory in the Volga river city of Nizhny Novgorod   was widely expected.     I will put forward my candidacy for the post of president of the Russian Federation,  Putin said, in answer to a question from a factory worker who told the Russian leader that  everyone without exception  in the hall supported him.  There s no better place or opportunity to make this announcement,  said Putin.  I m sure that everything will work out for us.  The workers then broke into a chant of  Russia!   Allies laud Putin as a father-of-the-nation figure who has restored national pride and expanded Moscow s global clout with interventions in Syria and Ukraine. Critics accuse him of overseeing a corrupt authoritarian system and of illegally annexing Ukraine s Crimea in 2014, a move that isolated Russia internationally. Opposition leader Alexei Navalny, who is unlikely to be allowed to run against Putin due to what he says is a trumped up criminal conviction, said Putin was overstaying his welcome.  He wants to be in power for 21 years,  Navalny wrote on social media.  To my mind, that s too long. I suggest we don t agree.  Despite the Central Election Commission ruling him ineligible to stand, Navalny has organized mass protests and set up campaign headquarters across the country, hoping he can pressure the authorities into allowing him to stand.  The challenge for Putin though is not other candidates   nobody, including Navalny, looks capable of unseating him.  Instead, his toughest task will be to mobilize an electorate showing signs of apathy to ensure a high turnout which in the tightly-controlled limits of the Russian political system is seen as conferring legitimacy. Whilst next year s election in March is devoid of real suspense about who will win, what follows is more unpredictable as attention will turn to what happens after Putin s final term - under the current constitution - ends. There is no obvious successor. Many investors say the lack of a clear succession plan, and likely jockeying for position among Russian elites for dominance in the post-Putin era, is becoming the biggest political risk. Putin, once re-elected, will have to choose whether to leave Dmitry Medvedev as prime minister, or to appoint someone else. That decision will trigger a round of intrigue over the succession, as whoever holds the prime minister s post is often viewed as the president s heir apparent. In the meantime, perhaps the Kremlin s biggest task will be to make it look as if Putin faces real electoral competition. In a move critics suspect is a Kremlin ploy to split the liberal opposition vote while injecting a patina of interest, TV celebrity Ksenia Sobchak, the daughter of Putin s political mentor, is standing against him, offering voters unhappy with his rule someone to back. A political ing nue, Sobchak has scant chance of winning. Kremlin spokesman Dmitry Peskov has denied her candidacy is a Kremlin ploy. Sobchak said on Wednesday that Putin would probably win  as always,  but that she still planned to run to represent people who wanted change.    Otherwise, Communist leader Gennady Zyuganov, 73, and nationalist firebrand Vladimir Zhirinovsky, 71, - both political retreads - are likely to run.  They are broadly supportive of the Kremlin s policies and have repeatedly run for president, behavior critics say is a ruse to create the illusion of genuine political choice.      Putin draws much of his support from outside the two biggest cities   Moscow and St Petersburg   where many credit him with raising their living standards despite an economic crisis Russia is only now recovering from. State TV, where many Russians still get their news, affords Putin blanket and uncritical coverage while ignoring or denigrating his opponents. \n",
      "\n",
      "Sentence after vectorization (before embedding):\n",
      " [[58439     1    66    38  1347   543   845   156    10  1277  1655   122\n",
      "    975     9   194   182    13    36   501    11  2147     7   365  1236\n",
      "      5  2663    13   747   547     3   387 10550     6  3352    20  6496\n",
      "      9   254    87     5  1008  1746   543  3967    22    45     7   254\n",
      "    802    19    38    48   409   199   131  2258   989    79  2075  3688\n",
      "    240 39259     1     6 48830   104    21  3487 23102 14033    56    13\n",
      "   2410    58    36    24     5  2657   139   839    13    40    24  3677\n",
      "      3  1336   200   699   119   384 12909    60    13  2340  5820  1185\n",
      "     21    61  1013   543  2915  8321  1449  2374     4   236  2804   138\n",
      "      6    20   283     3   501    11  2147    50    13   560    28     5\n",
      "      1  4419     7     2 46574  2517   207     4 58439 49021    18  1908\n",
      "    440    37    40   259   847   174  3056    11     2   310     4    38\n",
      "      4     2   201  4694   543    14     7  1096     3     5   450    26\n",
      "      5  4419  2683    30    86     2   201   240     8   616   253  5012\n",
      "      7     2  1955  1227    77    65    10    67   462   303    48  1280\n",
      "      3   132    27  1353    14   543    37   344   547     8   754    40\n",
      "    209    55    11    33     2   654   147  1515    87     5  8026     4\n",
      "    156   697 33486   543    19     5 61823  1520    30    22  7031   126\n",
      "   4118     6  3099   685    10   600  9615    16 12235     7   280     6\n",
      "   1529  1211  3242    77     4  5150     5  2286  5474   377     6     4\n",
      "   1784 32207  1529    10  3770     7   606     5   325     8  4796   156\n",
      "   4631   418   240 14200  9290    30    12  2073     3    24   716     3\n",
      "    501    89   543   541     3    58    13   188    12     5 17920    64\n",
      "    639  4151    14   543    18 58018    20  2381    13   468     3    24\n",
      "      7   254    11  1346   119  9290   464     9   317   125     3   174\n",
      "   1397     8    10   299   289    37  2302    35   183    44  1143   521\n",
      "      2   669   100   817   645    77  9225     3   649  9290    22  2328\n",
      "   1014   872     6   383    64    94  2559   426     2   112  2426    13\n",
      "     73   827     2   612    87  1469    77     3   649     2  1382    11\n",
      "    543   345    12    25    81   641  2000   151  9290  1342  2937     4\n",
      "  34939    77   525    20 10117  2834    40    24     3  9292    31  5588\n",
      "   1271  1889     4 18268     3  1128     5   452  3479    50     7     2\n",
      "      1  2757     4     2   201   122   377    12   341    19 40329  5073\n",
      "  17521   218   111    10   100     7   365    12 23267     4   390 26552\n",
      "     39    30    40   387    58  3560    12    49  7639    19  1125    40\n",
      "    887     3    58  1829    52   543    10   864   839   141     2   544\n",
      "    971  3034    65    12    67  2048  4027   113  1806   123     2  1283\n",
      "      4     5   304 10901   295     6   312 28286    11   605   314   201\n",
      "   5505    11  8642     7     2     1  2879    12  1367     2   829   122\n",
      "   1039   543   459  7435    40    23     3  1995   235     3   658  5710\n",
      "  13326    19   409   199    48     3  4450   534   968     8   283    40\n",
      "   4113     5  2227     4 18090    69     2 10901    19  4779  2492     2\n",
      "    409   199    10   310    12   719  3064    19     2    38    10 10945\n",
      "   2468     7     2  7537  1400     2  1883    10   829  2834    40    24\n",
      "      3   132    15   366    19    56   543  1700   390  1338  4041     7\n",
      "      5   325  1211  1919    12     5  1883 10593     3  2816     2   720\n",
      "    418   157   114 14306     5 57893     4   855  1013  3930 31448 15613\n",
      "      2  1305     4   543    10   122 10074    12  1205    89    77  2362\n",
      "    284  6872    16    20   630   534     3   144     5   122 12660     1\n",
      "  15613    22 13290  1178     4  1462  1883   360  5710  4667    22   723\n",
      "     53  3056    12     5  1883 10593 15613    14     9   194     8   543\n",
      "     36   821   387    19   703    34     8    51   191   709     3   501\n",
      "      3  2196    46    30   607   285  1909  1832   240 25975 66707  6942\n",
      "      6  3108  9831  1347 37522  7068   192   122 29333    29   312     3\n",
      "    501    32    29  6300  5743     4     2  1883    10   676     6    23\n",
      "    917   501    11    38  1207  1211   123    12     5 21467     3  1108\n",
      "      2 15229     4  6141   122  1176   543  9030   196     4    20   146\n",
      "     26   620     2    98   829  1187   685     6  1745  9430   134   113\n",
      "   1416    77    16  1817    41  1072  2040   521    31   362   515   156\n",
      "     12   104    99  8926    26    61  1013   134   113  1555   191   130\n",
      "     41    97 26306   543  7717     6 54836  1161   114  3750    48 22523\n",
      "     20  1621     0     0     0     0     0     0     0     0     0     0\n",
      "      0     0     0     0     0     0     0     0     0     0     0     0\n",
      "      0     0     0     0     0     0     0     0     0     0     0     0\n",
      "      0     0     0     0     0     0     0     0     0     0     0     0\n",
      "      0     0     0     0     0     0     0     0     0     0     0     0\n",
      "      0     0     0     0     0     0     0     0     0     0     0     0\n",
      "      0     0     0     0     0     0     0     0     0     0     0     0\n",
      "      0     0     0     0     0     0     0     0     0     0     0     0\n",
      "      0     0     0     0     0     0     0     0     0     0     0     0\n",
      "      0     0     0     0     0     0     0     0     0     0     0     0\n",
      "      0     0     0     0     0     0     0     0     0     0     0     0\n",
      "      0     0     0     0     0     0     0     0     0     0     0     0\n",
      "      0     0     0     0     0     0     0     0     0     0     0     0\n",
      "      0     0     0     0     0     0     0     0     0     0     0     0]]\n",
      "\n",
      "Vectorized sentence shape: (1, 900)\n",
      "\n",
      "Sentence after embedding:\n",
      " [[[ 0.03935832  0.03019767  0.03626708 ... -0.04244155  0.02568356\n",
      "    0.02657714]\n",
      "  [-0.04437178 -0.02583902  0.01684428 ... -0.01571976 -0.04890598\n",
      "    0.02140642]\n",
      "  [-0.02702625  0.04074756  0.02130378 ... -0.03069207  0.0374022\n",
      "    0.03616172]\n",
      "  ...\n",
      "  [ 0.02319456 -0.02792711 -0.01916846 ... -0.01559856 -0.02029382\n",
      "   -0.04801869]\n",
      "  [ 0.02319456 -0.02792711 -0.01916846 ... -0.01559856 -0.02029382\n",
      "   -0.04801869]\n",
      "  [ 0.02319456 -0.02792711 -0.01916846 ... -0.01559856 -0.02029382\n",
      "   -0.04801869]]]\n",
      "\n",
      "Embedded sentence shape: (1, 900, 128)\n"
     ]
    }
   ],
   "source": [
    "import random\n",
    "target_sentence = random.choice(train_sentences)\n",
    "\n",
    "print(f\"Sentence before vectorization:\\n {target_sentence}\\n\")\n",
    "vectorized_sentence = text_vectorizer([target_sentence])\n",
    "print(f\"Sentence after vectorization (before embedding):\\n {vectorized_sentence}\\n\")\n",
    "print(f\"Vectorized sentence shape: {vectorized_sentence.shape}\\n\")\n",
    "embedded_sentence = token_embed(vectorized_sentence)\n",
    "print(f\"Sentence after embedding:\\n {embedded_sentence}\\n\")\n",
    "print(f\"Embedded sentence shape: {embedded_sentence.shape}\")"
   ]
  },
  {
   "cell_type": "code",
   "execution_count": 28,
   "id": "5ea331bd",
   "metadata": {},
   "outputs": [],
   "source": [
    "train_dataset = tf.data.Dataset.from_tensor_slices((train_sentences, train_labels_one_hot))\n",
    "val_dataset = tf.data.Dataset.from_tensor_slices((val_sentences, val_labels_one_hot))\n"
   ]
  },
  {
   "cell_type": "code",
   "execution_count": 29,
   "id": "aff91242",
   "metadata": {},
   "outputs": [],
   "source": [
    "train_dataset = train_dataset.batch(32).prefetch(tf.data.AUTOTUNE)\n",
    "val_dataset = val_dataset.batch(32).prefetch(tf.data.AUTOTUNE)\n"
   ]
  },
  {
   "cell_type": "code",
   "execution_count": 34,
   "id": "a573b51c",
   "metadata": {},
   "outputs": [],
   "source": [
    "#Model-1\n",
    "inputs = layers.Input(shape=(1,), dtype=tf.string)\n",
    "x = text_vectorizer(inputs)\n",
    "x = token_embed(x)\n",
    "x = layers.Conv1D(64, 5, activation='relu')(x)\n",
    "x = layers.GlobalAveragePooling1D()(x)\n",
    "outputs = layers.Dense(2, activation='softmax')(x)\n",
    "model_1 = tf.keras.Model(inputs, outputs, name='model_1_Conv1D_Token')\n",
    "\n",
    "model_1.compile(\n",
    "    optimizer=tf.keras.optimizers.Adam(),\n",
    "    loss='categorical_crossentropy',\n",
    "    metrics=['accuracy']\n",
    ")"
   ]
  },
  {
   "cell_type": "code",
   "execution_count": 35,
   "id": "99362aa1",
   "metadata": {},
   "outputs": [
    {
     "name": "stdout",
     "output_type": "stream",
     "text": [
      "Model: \"model_1_Conv1D_Token\"\n",
      "_________________________________________________________________\n",
      "Layer (type)                 Output Shape              Param #   \n",
      "=================================================================\n",
      "input_3 (InputLayer)         [(None, 1)]               0         \n",
      "_________________________________________________________________\n",
      "text_vectorization (TextVect (None, 900)               0         \n",
      "_________________________________________________________________\n",
      "token_embedding (Embedding)  (None, 900, 128)          8704000   \n",
      "_________________________________________________________________\n",
      "conv1d_2 (Conv1D)            (None, 896, 64)           41024     \n",
      "_________________________________________________________________\n",
      "global_average_pooling1d_2 ( (None, 64)                0         \n",
      "_________________________________________________________________\n",
      "dense_1 (Dense)              (None, 2)                 130       \n",
      "=================================================================\n",
      "Total params: 8,745,154\n",
      "Trainable params: 8,745,154\n",
      "Non-trainable params: 0\n",
      "_________________________________________________________________\n"
     ]
    }
   ],
   "source": [
    "model_1.summary()"
   ]
  },
  {
   "cell_type": "code",
   "execution_count": 36,
   "id": "d189c428",
   "metadata": {},
   "outputs": [
    {
     "name": "stdout",
     "output_type": "stream",
     "text": [
      "Epoch 1/5\n",
      "98/98 [==============================] - 20s 63ms/step - loss: 0.5163 - accuracy: 0.7873 - val_loss: 0.2363 - val_accuracy: 0.9234\n",
      "Epoch 2/5\n",
      "98/98 [==============================] - 6s 57ms/step - loss: 0.1452 - accuracy: 0.9633 - val_loss: 0.1243 - val_accuracy: 0.9673\n",
      "Epoch 3/5\n",
      "98/98 [==============================] - 4s 39ms/step - loss: 0.0846 - accuracy: 0.9815 - val_loss: 0.1117 - val_accuracy: 0.9747\n",
      "Epoch 4/5\n",
      "98/98 [==============================] - 4s 39ms/step - loss: 0.0778 - accuracy: 0.9850 - val_loss: 0.0809 - val_accuracy: 0.9851\n",
      "Epoch 5/5\n",
      "98/98 [==============================] - 4s 45ms/step - loss: 0.0701 - accuracy: 0.9857 - val_loss: 0.0700 - val_accuracy: 0.9881\n"
     ]
    }
   ],
   "source": [
    "model_1_history = model_1.fit(\n",
    "    train_dataset,\n",
    "    steps_per_epoch=int(0.1 * len(train_dataset)),\n",
    "    epochs=5,\n",
    "    validation_data=val_dataset,\n",
    "    validation_steps=int(0.1 * len(val_dataset))\n",
    ")"
   ]
  },
  {
   "cell_type": "code",
   "execution_count": 37,
   "id": "e6b0457b",
   "metadata": {},
   "outputs": [
    {
     "name": "stdout",
     "output_type": "stream",
     "text": [
      "421/421 [==============================] - 6s 14ms/step - loss: 0.0594 - accuracy: 0.9907\n"
     ]
    },
    {
     "data": {
      "text/plain": [
       "[0.05936324968934059, 0.9907194375991821]"
      ]
     },
     "execution_count": 37,
     "metadata": {},
     "output_type": "execute_result"
    }
   ],
   "source": [
    "model_1.evaluate(val_dataset)"
   ]
  },
  {
   "cell_type": "code",
   "execution_count": 38,
   "id": "95bfde1d",
   "metadata": {},
   "outputs": [
    {
     "data": {
      "text/plain": [
       "array([[4.8114368e-01, 5.1885635e-01],\n",
       "       [5.2351934e-01, 4.7648069e-01],\n",
       "       [4.1090841e-03, 9.9589086e-01],\n",
       "       ...,\n",
       "       [1.6395270e-05, 9.9998355e-01],\n",
       "       [9.9999917e-01, 8.3501351e-07],\n",
       "       [9.9327764e-04, 9.9900669e-01]], dtype=float32)"
      ]
     },
     "execution_count": 38,
     "metadata": {},
     "output_type": "execute_result"
    }
   ],
   "source": [
    "model_1_pred_probs = model_1.predict(val_dataset)\n",
    "model_1_pred_probs"
   ]
  },
  {
   "cell_type": "code",
   "execution_count": 39,
   "id": "0c5bc9b7",
   "metadata": {},
   "outputs": [
    {
     "data": {
      "text/plain": [
       "<tf.Tensor: shape=(13469,), dtype=int64, numpy=array([1, 0, 1, ..., 1, 0, 1], dtype=int64)>"
      ]
     },
     "execution_count": 39,
     "metadata": {},
     "output_type": "execute_result"
    }
   ],
   "source": [
    "model_1_preds = tf.argmax(model_1_pred_probs, axis=1)\n",
    "model_1_preds"
   ]
  },
  {
   "cell_type": "code",
   "execution_count": 40,
   "id": "9947bb27",
   "metadata": {},
   "outputs": [
    {
     "data": {
      "text/plain": [
       "{'accuracy': 99.0719429801767,\n",
       " 'precision': 0.9907215424486643,\n",
       " 'recall': 0.990719429801767,\n",
       " 'f1-score': 0.9907198236418997}"
      ]
     },
     "execution_count": 40,
     "metadata": {},
     "output_type": "execute_result"
    }
   ],
   "source": [
    "model_1_results = calculate_results(val_labels_encoded, model_1_preds)\n",
    "model_1_results"
   ]
  },
  {
   "cell_type": "code",
   "execution_count": 41,
   "id": "7c53be95",
   "metadata": {},
   "outputs": [
    {
     "data": {
      "text/plain": [
       "{'accuracy': 93.54072314202985,\n",
       " 'precision': 0.9354501480982574,\n",
       " 'recall': 0.9354072314202985,\n",
       " 'f1-score': 0.9353789712573514}"
      ]
     },
     "execution_count": 41,
     "metadata": {},
     "output_type": "execute_result"
    }
   ],
   "source": [
    "baseline_results"
   ]
  },
  {
   "cell_type": "code",
   "execution_count": null,
   "id": "eafb1b35",
   "metadata": {},
   "outputs": [],
   "source": []
  }
 ],
 "metadata": {
  "kernelspec": {
   "display_name": "Python 3 (ipykernel)",
   "language": "python",
   "name": "python3"
  },
  "language_info": {
   "codemirror_mode": {
    "name": "ipython",
    "version": 3
   },
   "file_extension": ".py",
   "mimetype": "text/x-python",
   "name": "python",
   "nbconvert_exporter": "python",
   "pygments_lexer": "ipython3",
   "version": "3.9.13"
  }
 },
 "nbformat": 4,
 "nbformat_minor": 5
}
